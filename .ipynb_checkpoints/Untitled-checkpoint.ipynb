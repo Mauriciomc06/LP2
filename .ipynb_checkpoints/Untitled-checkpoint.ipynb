{
 "cells": [
  {
   "cell_type": "markdown",
   "id": "b6926155-c485-464d-8d94-cf5d45ea15fd",
   "metadata": {},
   "source": [
    "<center><h1 style=\"color: orange;\">El Impacto Cultural de Dragon Ball</h1></center>\r\n",
    "\n"
   ]
  },
  {
   "cell_type": "markdown",
   "id": "0e025b55-112d-43a5-a203-101da7a5c6b2",
   "metadata": {},
   "source": [
    "## Relevancia Cultural de Dragon Ball\n",
    "\n",
    "La serie Dragon Ball es una franquicia de medios creada por el mangaka japonés Akira Toriyama. Originalmente comenzó como un manga serializado en la revista Weekly Shōnen Jump de la editorial Shueisha en 1984, y luego se adaptó a una serie de anime que se emitió por primera vez en 1986. Desde entonces, ha crecido hasta convertirse en una de las series de manga y anime más influyentes y reconocidas a nivel mundial.\n",
    "\n",
    "## Relevancia Cultural:\n",
    "\n",
    "1. **Impacto en el género shōnen**: Dragon Ball ha dejado una huella indeleble en el género shōnen, que se centra en las aventuras de jóvenes protagonistas. Su enfoque en la acción, la amistad y el crecimiento personal ha establecido un estándar para muchas otras series shōnen que vinieron después.\n",
    "\n",
    "2. **Popularidad internacional**: Dragon Ball no solo ha sido un éxito en Japón, sino que también ha conquistado audiencias en todo el mundo. Desde América Latina hasta Europa y más allá, la serie ha sido ampliamente difundida y apreciada por personas de diversas culturas y países.\n",
    "\n",
    "3. **Influencia en la cultura pop**: Dragon Ball se ha convertido en un fenómeno de la cultura pop, con personajes, términos y escenas icónicas que son reconocidos incluso por aquellos que no están familiarizados con la serie en profundidad. Su impacto se extiende más allá del anime y manga, influyendo en la música, la moda, los videojuegos y otros medios de entretenimiento.\n",
    "\n",
    "4. **Legado duradero**: A pesar de que la serie principal terminó en 1995, Dragon Ball sigue siendo relevante hoy en día. La continuación de la historia con Dragon Ball Super, así como películas, videojuegos y productos relacionados, mantienen viva la llama de la franquicia. Además, generaciones de fans han crecido con la serie y continúan transmitiendo su amor por Dragon Ball a las generaciones más jóvenes.\n",
    "\n",
    "## Origen y Expansión de Dragon Ball:\n",
    "\n",
    "1. **Creación y primeros años**: La historia de Dragon Ball comenzó con Akira Toriyama, un talentoso mangaka japonés conocido por su trabajo en Dr. Slump. Inspirado por el clásico de la literatura china \"Viaje al Oeste\" y por las artes marciales, Toriyama creó Dragon Ball, que se publicó por primera vez en la revista Weekly Shōnen Jump de Shueisha en 1984. La serie seguía las aventuras de un joven llamado Goku, quien se embarca en una búsqueda para encontrar las siete esferas del dragón, las cuales pueden invocar a un dragón que concede deseos.\n",
    "\n",
    "2. **Adaptación al anime y auge de popularidad**: En 1986, Dragon Ball fue adaptado a una serie de anime por Toei Animation. Esta adaptación ayudó a llevar la historia a un público más amplio. La primera serie de anime abarcó la infancia de Goku y sus primeras aventuras. Con su éxito, se lanzó una continuación llamada Dragon Ball Z en 1989, que se centró en la vida adulta de Goku y sus batallas contra poderosos enemigos.\n",
    "\n",
    "3. **Expansión internacional**: A mediados de los años 90, Dragon Ball comenzó a ganar popularidad fuera de Japón. En Estados Unidos, la serie fue transmitida por primera vez en 1995, pero no fue hasta su retransmisión en Cartoon Network en 1998 que ganó una gran base de seguidores. En América Latina, la serie se emitió en canales como Canal 5 en México y fue doblada al español, lo que contribuyó significativamente a su popularidad en la región.\n",
    "\n",
    "4. **Influencia global**: Dragon Ball no solo se convirtió en un fenómeno en Japón y América, sino que también alcanzó audiencias en Europa, Medio Oriente, África y Asia. El impacto cultural de la serie se reflejó en la creación de numerosos productos derivados, incluyendo juguetes, videojuegos, ropa, y más.\n",
    "\n",
    "5. **Continuación y legado**: A pesar de que la serie principal de manga terminó en 1995, y Dragon Ball Z concluyó en 1996, la franquicia continuó creciendo. Se lanzaron series como Dragon Ball GT en 1996 y Dragon Ball Super en 2015, esta última reavivando el interés de nuevas generaciones. Además, se produjeron múltiples películas, siendo \"Dragon Ball Super: Broly\" (2018) una de las más exitosas.\n",
    "\n",
    "6. **Presencia en la cultura pop**: Dragon Ball ha dejado una marca indeleble en la cultura pop. Sus personajes, técnicas de combate y elementos de la historia son reconocidos globalmente. La influencia de Dragon Ball se extiende a otras series de anime y manga, y ha inspirado a numerosos creadores en diferentes campos del entretenimiento."
   ]
  },
  {
   "cell_type": "markdown",
   "id": "a01933a7-e6a3-451b-a29b-9b2f37c3f1c2",
   "metadata": {},
   "source": [
    "## Comparacion MAGA VS ANIME\n"
   ]
  },
  {
   "cell_type": "markdown",
   "id": "79ad62e9-8b70-42ef-8271-fee7552ec722",
   "metadata": {},
   "source": [
    "| Aspecto                              | Manga | Anime |\n",
    "|--------------------------------------|-------|-------|\n",
    "| Original                             |   X   |       |\n",
    "| Adaptación                           |       |   X   |\n",
    "| Dibujado                             |   X   |       |\n",
    "| Animado                              |       |   X   |\n",
    "| Historia primaria                    |   X   |       |\n",
    "| Historia ampliada                    |       |   X   |\n",
    "| Estilo de arte de Akira Toriyama     |   X   |       |\n",
    "| Adaptación de arte animado           |       |   X   |\n",
    "| Formato en blanco y negro            |   X   |       |\n",
    "| Colorido                             |       |   X   |\n",
    "| Publicado en revistas de manga       |   X   |       |\n",
    "| Transmitido en televisión            |       |   X   |\n",
    "| Menos censura                        |   X   |       |\n",
    "| Censura para audiencia más joven    |       |   X   |\n",
    "| Mayor detalle en algunas escenas    |   X   |       |\n",
    "| Escenas extendidas o modificadas     |       |   X   |\n",
    "| Sigue el ritmo de Toriyama           |   X   |       |\n",
    "| Agrega relleno para alargar la trama |       |   X   |\n",
    "| Puede ser más rápido de leer         |   X   |       |\n",
    "| Puede tomar más tiempo para desarrollar la trama | | X |\n",
    "| Menos música y efectos de sonido     |   X   |       |\n",
    "| Banda sonora y efectos de sonido añadidos |       |   X   |\n",
    "| Diálogos originales                  |   X   |       |\n",
    "| Agrega diálogos y cambios para adaptarse a la animación | | X |\n",
    "| Mayor control del ritmo de la historia |   X   |       |\n",
    "| Depende más del director y equipo de producción | | X |"
   ]
  },
  {
   "cell_type": "markdown",
   "id": "d52b7050-0f72-49d5-ad67-7f6ea86f4839",
   "metadata": {},
   "source": [
    "## Comunidad de fans\n"
   ]
  },
  {
   "cell_type": "markdown",
   "id": "da44a35d-c66c-48a5-a283-1aebb736fef2",
   "metadata": {},
   "source": [
    "La comunidad de fans de Dragon Ball es una de las más dedicadas y apasionadas dentro del mundo del entretenimiento japonés y la cultura pop en general. Dragon Ball, creado por Akira Toriyama, es una franquicia de manga y anime que ha dejado un impacto significativo en la cultura popular desde su debut en 1984.\n",
    "\n",
    "## Características de la comunidad de fans:\n",
    "\n",
    "1. **Diversidad global**: La comunidad de fans de Dragon Ball es extremadamente diversa y global. Abarca todas las edades, géneros y culturas, lo que demuestra la universalidad de su atractivo.\n",
    "\n",
    "2. **Pasión y dedicación**: Los fans de Dragon Ball son conocidos por su increíble pasión y dedicación a la serie. Muchos de ellos han seguido la franquicia desde su infancia hasta la edad adulta, manteniendo viva la llama del fandom a lo largo de los años.\n",
    "\n",
    "3. **Creación de contenido**: La comunidad de fans de Dragon Ball es prolífica en la creación de contenido. Desde fanarts y fanfics hasta vídeos de análisis y teorías, los fans contribuyen activamente al universo Dragon Ball con su creatividad.\n",
    "\n",
    "4. **Eventos y convenciones**: Los eventos relacionados con Dragon Ball, como convenciones y torneos de videojuegos, atraen a miles de fans de todo el mundo. Estos eventos son oportunidades para que la comunidad se reúna, comparta su pasión y celebre juntos su amor por la serie.\n",
    "\n",
    "## Impacto de la comunidad de fans:\n",
    "\n",
    "1. **Éxito comercial**: El apoyo continuo de la comunidad de fans ha contribuido al enorme éxito comercial de Dragon Ball. La franquicia ha generado miles de millones de dólares en ventas de productos como manga, anime, videojuegos, figuras de acción y más.\n",
    "\n",
    "2. **Perdurabilidad de la franquicia**: A lo largo de los años, Dragon Ball ha demostrado ser una franquicia perdurable, en gran parte debido al entusiasmo y lealtad de sus fans. El interés constante en la serie ha llevado a la creación de nuevas adaptaciones, secuelas y spin-offs que mantienen viva la saga para las generaciones futuras.\n",
    "\n",
    "3. **Influencia en la cultura pop**: Dragon Ball ha tenido un impacto significativo en la cultura pop a nivel mundial. Ha influenciado a otros creadores de manga, anime y medios de entretenimiento, y sus personajes y conceptos son reconocidos incluso por aquellos que no son seguidores directos de la serie.\n"
   ]
  },
  {
   "cell_type": "markdown",
   "id": "c3c8c6b7-c58a-4e45-8956-ab75265e5765",
   "metadata": {},
   "source": [
    "<p style=\"text-align:center;\">\r\n",
    "  <img src=\"https://tierragamer.com/wp-content/uploads/2022/02/1aportadaGOKU.jpg\" alt=\"goku\">\r\n",
    "</p>"
   ]
  },
  {
   "cell_type": "code",
   "execution_count": null,
   "id": "27855764-0ba6-4223-92f0-8b241aa19b52",
   "metadata": {},
   "outputs": [],
   "source": []
  }
 ],
 "metadata": {
  "kernelspec": {
   "display_name": "Python 3 (ipykernel)",
   "language": "python",
   "name": "python3"
  },
  "language_info": {
   "codemirror_mode": {
    "name": "ipython",
    "version": 3
   },
   "file_extension": ".py",
   "mimetype": "text/x-python",
   "name": "python",
   "nbconvert_exporter": "python",
   "pygments_lexer": "ipython3",
   "version": "3.11.7"
  }
 },
 "nbformat": 4,
 "nbformat_minor": 5
}
