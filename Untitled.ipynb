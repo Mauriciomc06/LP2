{
 "cells": [
  {
   "cell_type": "markdown",
   "id": "b6926155-c485-464d-8d94-cf5d45ea15fd",
   "metadata": {},
   "source": [
    "iniciaremos con el trabajo\n"
   ]
  },
  {
   "cell_type": "code",
   "execution_count": null,
   "id": "35806c23-bb48-401e-97bd-ec25b1575b80",
   "metadata": {},
   "outputs": [],
   "source": []
  }
 ],
 "metadata": {
  "kernelspec": {
   "display_name": "Python 3 (ipykernel)",
   "language": "python",
   "name": "python3"
  },
  "language_info": {
   "codemirror_mode": {
    "name": "ipython",
    "version": 3
   },
   "file_extension": ".py",
   "mimetype": "text/x-python",
   "name": "python",
   "nbconvert_exporter": "python",
   "pygments_lexer": "ipython3",
   "version": "3.11.7"
  }
 },
 "nbformat": 4,
 "nbformat_minor": 5
}
